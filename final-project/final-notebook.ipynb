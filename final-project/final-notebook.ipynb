{
 "cells": [
  {
   "cell_type": "markdown",
   "metadata": {},
   "source": [
    "# Trade Execution - Predicting Shortfall\n",
    "\n",
    "## Introduction\n",
    "Within finance, an optimal trade execution strategy can enhance a portfolio’s performance by\n",
    "by using short-term expectations of stock price movements to optimally time a trade.\n",
    "However, it is difficult to capture all of the idiosyncratic causes of stock price changes in the short term. Alpha profiling, which uses the past behavior of portfolio managers\n",
    "(PMs) to learn patterns about optimal trade executions (The Trade, 2014), seeks to indirectly\n",
    "capture the idiosyncratic market beliefs using the PMs historical trading strategy.\n",
    "\n",
    "A webpage version will be available at\n",
    "https://github.com/silkeherold/probprog-finalproject/final-project/...."
   ]
  },
  {
   "cell_type": "code",
   "execution_count": 124,
   "metadata": {},
   "outputs": [],
   "source": [
    "%matplotlib inline\n",
    "import edward as ed\n",
    "import numpy as np\n",
    "import tensorflow as tf\n",
    "import matplotlib.pylab as plt\n",
    "import scipy.stats as sps\n",
    "\n",
    "from edward.models import Bernoulli,MultivariateNormalTriL, Normal\n",
    "from edward.util import rbf"
   ]
  },
  {
   "cell_type": "code",
   "execution_count": null,
   "metadata": {},
   "outputs": [],
   "source": [
    "ed.set_seed(42)"
   ]
  },
  {
   "cell_type": "markdown",
   "metadata": {},
   "source": [
    "## Data\n",
    "\n",
    "The dataset is comprised of the following colums:\n",
    "\n",
    "* Implementation Shortfall (bps) R\n",
    "* Expected Cost (bps) R+\n",
    "* Trade Amount ($), negative indicates sells R\n",
    "* Forecast Participation Rate (%) R+\n",
    "* Stock Volatility R+\n",
    " * 5 day, 10 day\n",
    "* Momentum R\n",
    " * Open, 5 Day, 10 Day\n",
    "    \n",
    "The goal is to predict the deviation between implementation shortfall (actual cost) and expected costs. These deviations are largely influenced by underlying price changes in the market. The model is split into two components: direction and magnitude.\n",
    "\n",
    "<b>Magnitude</b>\n",
    "\n",
    "This is a regression problem, which will indicate how large of an absolute deviation will occur. Moves in underlying prices are largely dependent on the trade size, security volatility, and absolute momentum strength. They are also influenced by external idiosynractic events, which are not covered here.\n",
    "\n",
    "<b>Direction</b>\n",
    "\n",
    "This is a classification problem that will determine whether the deviation will be positive or not. A positive deviation indicates that the execution cost is more expensive than predicted. These deviations are mostly driven by short-term price moves. The direction of short-term price moves is modeled using the momentum components, which indicate the extent that a price has been increasing or in recent history. "
   ]
  },
  {
   "cell_type": "code",
   "execution_count": 104,
   "metadata": {},
   "outputs": [
    {
     "name": "stdout",
     "output_type": "stream",
     "text": [
      "Number of data points: 911\n",
      "Number of magnitude features: 7\n",
      "Number of direction features: 3\n"
     ]
    },
    {
     "data": {
      "image/png": "[encoded data removed]",
      "text/plain": [
       "<matplotlib.figure.Figure at 0x1b6fbf98>"
      ]
     },
     "metadata": {},
     "output_type": "display_data"
    }
   ],
   "source": [
    "data = np.loadtxt('data/train_data.csv', delimiter=',',skiprows=1)\n",
    "\n",
    "# Data Size\n",
    "N = data.shape[0]  # number of data points\n",
    "D_size = data.shape[1]-2  # number of features\n",
    "D_dir = data.shape[1]-2-4  # number of features\n",
    "print(\"Number of data points: {}\".format(N))\n",
    "print(\"Number of magnitude features: {}\".format(D_size))\n",
    "print(\"Number of direction features: {}\".format(D_dir))\n",
    "\n",
    "# Cost Deviation\n",
    "y_train = data[:, 0]-data[:,1]  # IS - EC\n",
    "\n",
    "# Histograms of y variable\n",
    "plt.figure(figsize=(10,4))\n",
    "plt.subplot(1,2,1)\n",
    "plt.title('Actual Cost - Expected Cost (bps)')\n",
    "_=plt.hist(y_train,bins=60)\n",
    "plt.subplot(1,2,2)\n",
    "_=plt.hist(y_train,bins=60,range=(-30, 40))\n",
    "\n",
    "# Magnitude Training Data\n",
    "X_train_size = np.absolute(data[:, 2:])\n",
    "y_train_size = np.absolute(data[:, 0]-data[:,1])\n",
    "\n",
    "# Direction Training Data\n",
    "X_train_dir = data[:, 6:]\n",
    "y_train_dir = data[:, 0]-data[:,1]\n",
    "y_train_dir[y_train_dir[:] > 0] = 1  # Convert to Classification\n",
    "y_train_dir[y_train_dir[:] < 0] = 0  # Convert to Classification"
   ]
  },
  {
   "cell_type": "markdown",
   "metadata": {},
   "source": [
    "## 1. Magnitude\n",
    "### Model - GP Regression\n",
    "\n",
    "The GaussianProcessRegressor implements Gaussian processes (GP) for regression purposes. For this, the prior of the GP needs to be specified. The prior mean is assumed to be constant and zero (for normalize_y=False) or the training data’s mean (for normalize_y=True). The prior’s covariance is specified by a passing a kernel object. The hyperparameters of the kernel are optimized during fitting of GaussianProcessRegressor by maximizing the log-marginal-likelihood (LML) based on the passed optimizer. As the LML may have multiple local optima, the optimizer can be started repeatedly by specifying n_restarts_optimizer. The first run is always conducted starting from the initial hyperparameter values of the kernel; subsequent runs are conducted from hyperparameter values that have been chosen randomly from the range of allowed values. If the initial hyperparameters should be kept fixed, None can be passed as optimizer. Source: http://scikit-learn.org/stable/modules/gaussian_process.html\n",
    "\n",
    "http://katbailey.github.io/post/gaussian-processes-for-dummies/\n",
    "\n",
    "https://arxiv.org/pdf/1502.02843.pdf\n",
    "\n",
    "http://www.gaussianprocess.org/gpml/chapters/RW.pdf\n",
    "Definition 2.1 A Gaussian process is a collection of random variables, any Gaussian process\n",
    "finite number of which have a joint Gaussian distribution.\n",
    "A Gaussian process is completely specified by its mean function and co- covariance and\n",
    "variance function. We define mean function m(x) and the covariance function mean function\n",
    "k(x, x0) of a real process f(x) as \n",
    "m(x) = E[f(x)]\n",
    "k(x, x0) = E[(f(x) − m(x))(f(x') − m(x'))] \n",
    "and will write the Gaussian process as\n",
    "f(x) ∼ GP(m(x), k(x, x')\u0001\n",
    "\n",
    "Usually, for notational simplicity we will take the mean function to be zero,\n",
    "although this need not be done, see section 2.7.\n",
    "\n",
    "\n",
    "A Gaussian process is a powerful object for modeling nonlinear\n",
    "relationships between pairs of random variables. It defines a distribution over\n",
    "(possibly nonlinear) functions, which can be applied for representing\n",
    "our uncertainty around the true functional relationship.\n",
    "Here we define a Gaussian process model for classification\n",
    "(Rasumussen & Williams, 2006).\n",
    "\n",
    "Formally, a distribution over functions $f:\\mathbb{R}^D\\to\\mathbb{R}$ can be specified\n",
    "by a Gaussian process\n",
    "$$\n",
    "\\begin{align*}\n",
    "  p(f)\n",
    "  &=\n",
    "  \\mathcal{GP}(f\\mid \\mathbf{0}, k(\\mathbf{x}, \\mathbf{x}^\\prime)),\n",
    "\\end{align*}\n",
    "$$\n",
    "whose mean function is the zero function, and whose covariance\n",
    "function is some kernel which describes dependence between\n",
    "any set of inputs to the function.\n",
    "\n",
    "Given a set of input-output pairs\n",
    "$\\{\\mathbf{x}_n\\in\\mathbb{R}^D,y_n\\in\\mathbb{R}\\}$,\n",
    "the likelihood can be written as a multivariate normal\n",
    "\n",
    "\\begin{align*}\n",
    "  p(\\mathbf{y})\n",
    "  &=\n",
    "  \\text{Normal}(\\mathbf{y} \\mid \\mathbf{0}, \\mathbf{K})\n",
    "\\end{align*}\n",
    "\n",
    "where $\\mathbf{K}$ is a covariance matrix given by evaluating\n",
    "$k(\\mathbf{x}_n, \\mathbf{x}_m)$ for each pair of inputs in the data\n",
    "set.\n",
    "\n",
    "The above applies directly for regression where $\\mathbb{y}$ is a\n",
    "real-valued response, but not for (binary) classification, where $\\mathbb{y}$\n",
    "is a label in $\\{0,1\\}$. To deal with classification, we interpret the\n",
    "response as latent variables which is squashed into $[0,1]$. We then\n",
    "draw from a Bernoulli to determine the label, with probability given\n",
    "by the squashed value.\n",
    "\n",
    "Define the likelihood of an observation $(\\mathbf{x}_n, y_n)$ as\n",
    "\n",
    "\\begin{align*}\n",
    "  p(y_n \\mid \\mathbf{z}, x_n)\n",
    "  &=\n",
    "  \\text{Bernoulli}(y_n \\mid \\text{logit}^{-1}(\\mathbf{x}_n^\\top \\mathbf{z})).\n",
    "\\end{align*}\n",
    "\n",
    "Define the prior to be a multivariate normal\n",
    "\n",
    "\\begin{align*}\n",
    "  p(\\mathbf{z})\n",
    "  &=\n",
    "  \\text{Normal}(\\mathbf{z} \\mid \\mathbf{0}, \\mathbf{K}),\n",
    "\\end{align*}\n",
    "\n",
    "with covariance matrix given as previously stated.\n",
    "\n",
    "Let's build the model in Edward. We use a radial basis function (RBF)\n",
    "kernel, also known as the squared exponential or exponentiated\n",
    "quadratic. It returns the kernel matrix evaluated over all pairs of\n",
    "data points; we then Cholesky decompose the matrix to parameterize the\n",
    "multivariate normal distribution."
   ]
  },
  {
   "cell_type": "code",
   "execution_count": 100,
   "metadata": {
    "collapsed": true
   },
   "outputs": [],
   "source": [
    "X = tf.placeholder(tf.float32, [N, 3])\n",
    "z =ed.rbf(X,None,10.0,1.0)+0.00001*np.eye(N) # Add small amount to remove small negative eigenvalues\n",
    "#z = tf.cholesky(ed.rbf(X,None,10.0,1.0)+0.000001*np.eye(N)) # Add small amount to remove small negative eigenvalues\n",
    "#y = Bernoulli(logits=f)\n",
    "f = MultivariateNormalTriL(loc=tf.zeros(N), scale_tril=tf.cholesky(rbf(X,None,10.0,1.0)+0.000001*np.eye(N)))\n",
    "y = MultivariateNormalTriL(loc=tf.zeros(N), scale_tril=tf.cholesky(rbf(X,None,10.0,1.0)+0.000001*np.eye(N)))"
   ]
  },
  {
   "cell_type": "code",
   "execution_count": 101,
   "metadata": {},
   "outputs": [],
   "source": [
    "sess = tf.Session()\n",
    "z=sess.run(z,feed_dict={X: X_train_dir})\n",
    "sess.close()\n",
    "\n",
    "#print(X_train)"
   ]
  },
  {
   "cell_type": "code",
   "execution_count": 102,
   "metadata": {},
   "outputs": [
    {
     "name": "stdout",
     "output_type": "stream",
     "text": [
      "[]\n"
     ]
    }
   ],
   "source": [
    "e=np.linalg.eigvals(z)\n",
    "print(e[e<0])"
   ]
  },
  {
   "cell_type": "markdown",
   "metadata": {},
   "source": [
    "Here, we define a placeholder `X`. During inference, we pass in\n",
    "the value for this placeholder according to data."
   ]
  },
  {
   "cell_type": "markdown",
   "metadata": {},
   "source": [
    "### Inference\n",
    "\n",
    "Perform variational inference.\n",
    "Define the variational model to be a fully factorized normal."
   ]
  },
  {
   "cell_type": "code",
   "execution_count": 10,
   "metadata": {
    "collapsed": true
   },
   "outputs": [],
   "source": [
    "#qf = Normal(loc=tf.Variable(tf.random_normal([N])),\n",
    "#            scale=tf.nn.softplus(tf.Variable(tf.random_normal([N]))))"
   ]
  },
  {
   "cell_type": "markdown",
   "metadata": {},
   "source": [
    "Run variational inference for `500` iterations."
   ]
  },
  {
   "cell_type": "code",
   "execution_count": 11,
   "metadata": {
    "scrolled": false
   },
   "outputs": [
    {
     "name": "stdout",
     "output_type": "stream",
     "text": [
      "5000/5000 [100%] ██████████████████████████████ Elapsed: 4851s | Loss: nan\n"
     ]
    }
   ],
   "source": [
    "#inference = ed.KLqp({f: qf}, data={X: X_train, y: y_train})\n",
    "#inference.run(n_iter=5000)"
   ]
  },
  {
   "cell_type": "code",
   "execution_count": null,
   "metadata": {
    "collapsed": true
   },
   "outputs": [],
   "source": []
  },
  {
   "cell_type": "markdown",
   "metadata": {},
   "source": [
    "In this case\n",
    "`KLqp` defaults to minimizing the\n",
    "$\\text{KL}(q\\|p)$ divergence measure using the reparameterization\n",
    "gradient.\n",
    "For more details on inference, see the [$\\text{KL}(q\\|p)$ tutorial](/tutorials/klqp).\n",
    "(This example happens to be slow because evaluating and inverting full\n",
    "covariances in Gaussian processes happens to be slow.)"
   ]
  },
  {
   "cell_type": "markdown",
   "metadata": {},
   "source": [
    "## 2. Direction\n",
    "### Model - GP Classification\n",
    "\n",
    "\n"
   ]
  },
  {
   "cell_type": "code",
   "execution_count": 119,
   "metadata": {
    "collapsed": true
   },
   "outputs": [],
   "source": [
    "X_dir = tf.placeholder(tf.float32, [N, D_dir])\n",
    "f_dir = MultivariateNormalTriL(loc=tf.zeros(N), scale_tril=tf.cholesky(rbf(X_dir)+0.00001*np.eye(N)))\n",
    "y_dir = Bernoulli(logits=f_dir)"
   ]
  },
  {
   "cell_type": "markdown",
   "metadata": {},
   "source": [
    "### Inference"
   ]
  },
  {
   "cell_type": "code",
   "execution_count": 120,
   "metadata": {
    "collapsed": true
   },
   "outputs": [],
   "source": [
    "qf_dir = Normal(loc=tf.Variable(tf.random_normal([N])),\n",
    "            scale=tf.nn.softplus(tf.Variable(tf.random_normal([N]))))"
   ]
  },
  {
   "cell_type": "code",
   "execution_count": 121,
   "metadata": {},
   "outputs": [],
   "source": [
    "inference_dir = ed.KLqp({f_dir: qf_dir}, data={X_dir: X_train_dir, y_dir: y_train_dir})\n",
    "inference_dir.initialize(n_iter=5000)"
   ]
  },
  {
   "cell_type": "code",
   "execution_count": 123,
   "metadata": {},
   "outputs": [
    {
     "name": "stdout",
     "output_type": "stream",
     "text": [
      "{'t': 1, 'loss': 1.0711274e+08}\n",
      "{'t': 1001, 'loss': 80231.609}\n",
      "{'t': 2001, 'loss': 32911.141}\n",
      "{'t': 3001, 'loss': 22509.631}\n",
      "{'t': 4001, 'loss': 23596.1}\n"
     ]
    },
    {
     "data": {
      "image/png": "[encoded data removed]",
      "text/plain": [
       "<matplotlib.figure.Figure at 0x34df8b38>"
      ]
     },
     "metadata": {},
     "output_type": "display_data"
    }
   ],
   "source": [
    "sess = ed.get_session()\n",
    "init = tf.global_variables_initializer()\n",
    "init.run()\n",
    "curve = []\n",
    "for _ in range(inference_dir.n_iter):\n",
    "    status = inference_dir.update()\n",
    "    if _%1000 == 0:\n",
    "        print(status)\n",
    "    curve.append(status['loss'])\n",
    "_=plt.semilogy(curve)\n"
   ]
  }
 ],
 "metadata": {
  "anaconda-cloud": {},
  "kernelspec": {
   "display_name": "Python [default]",
   "language": "python",
   "name": "python3"
  },
  "language_info": {
   "codemirror_mode": {
    "name": "ipython",
    "version": 3
   },
   "file_extension": ".py",
   "mimetype": "text/x-python",
   "name": "python",
   "nbconvert_exporter": "python",
   "pygments_lexer": "ipython3",
   "version": "3.6.1"
  }
 },
 "nbformat": 4,
 "nbformat_minor": 1
}
