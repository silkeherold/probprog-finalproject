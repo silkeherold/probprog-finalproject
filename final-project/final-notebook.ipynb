{
 "cells": [
  {
   "cell_type": "markdown",
   "metadata": {},
   "source": [
    "# Trade Execution - Predicting Shortfall\n",
    "\n",
    "## Introduction\n",
    "Within finance, an optimal trade execution strategy can enhance a portfolio’s performance\n",
    "by using short-term expectations of stock price movements to optimally time a trade.\n",
    "However, it is difficult to capture the idiosyncratic information surrounding stock price changes. Alpha profiling uses the past behavior of portfolio managers\n",
    "(PMs) to learn patterns about trade execution costs.  \n",
    "\n",
    "In this project, we aim to predict the deviations between actual and expected trade execution costs for a specific portfolio manager."
   ]
  },
  {
   "cell_type": "code",
   "execution_count": 2,
   "metadata": {},
   "outputs": [],
   "source": [
    "%matplotlib inline\n",
    "import edward as ed\n",
    "import numpy as np\n",
    "import tensorflow as tf\n",
    "import matplotlib.pylab as plt\n",
    "import scipy.stats as sps\n",
    "\n",
    "from edward.models import Bernoulli, MultivariateNormalTriL, Normal, Gamma\n",
    "from edward.util import rbf\n",
    "\n",
    "plt.style.use('ggplot')"
   ]
  },
  {
   "cell_type": "code",
   "execution_count": 3,
   "metadata": {
    "collapsed": true
   },
   "outputs": [],
   "source": [
    "ed.set_seed(42)"
   ]
  },
  {
   "cell_type": "markdown",
   "metadata": {},
   "source": [
    "## Data Overview\n",
    "\n",
    "The dataset is comprised of the following columns:\n",
    "\n",
    "* Implementation Shortfall (bps) - $\\mathbb{R}$\n",
    "* Expected Cost (bps) - $\\mathbb{R}_+$\n",
    "* Trade Amount (\\$) - $\\mathbb{R}$\n",
    "* Forecast Participation Rate (%) - $\\mathbb{R}_+$\n",
    "* Stock Volatility: 5 day, 15 day - $\\mathbb{R}_+$\n",
    "* Momentum: Open, 5 Day, 15 Day - $\\mathbb{R}$\n",
    "    \n",
    "The goal is to predict the deviation between implementation shortfall (actual cost) and expected costs. These deviations are largely influenced by underlying price changes in the market. The prediction model is split into two components: direction and magnitude.\n",
    "\n",
    "<b>Direction</b>\n",
    "\n",
    "This is a classification problem that will determine whether the deviation is positive or not. A positive deviation indicates that the execution cost is more expensive than predicted. These deviations are mostly driven by short-term price moves. \n",
    "\n",
    "<b>Magnitude</b>\n",
    "\n",
    "This is a regression problem, which predicts the absolute deviation size. This is largely dependent on trade size, security volatility, and momentum. It isalso influenced by idiosynractic events, which are not covered here."
   ]
  },
  {
   "cell_type": "code",
   "execution_count": 4,
   "metadata": {},
   "outputs": [
    {
     "name": "stdout",
     "output_type": "stream",
     "text": [
      "Number of data points: 911\n",
      "Number of features: 7\n"
     ]
    },
    {
     "data": {
      "image/png": "[encoded data removed]",
      "text/plain": [
       "<matplotlib.figure.Figure at 0x870c5f8>"
      ]
     },
     "metadata": {},
     "output_type": "display_data"
    }
   ],
   "source": [
    "data = np.loadtxt('data/train_data.csv', delimiter=',',skiprows=1)\n",
    "\n",
    "# Data Size\n",
    "N = data.shape[0]  # number of data points\n",
    "D_size = data.shape[1]-2  # number of magnitude features\n",
    "D_dir = data.shape[1]-2  # number of size features\n",
    "print(\"Number of data points: {}\".format(N))\n",
    "print(\"Number of features: {}\".format(D_size))\n",
    "\n",
    "# Cost Deviation: IS - EC\n",
    "y_train = data[:, 0]-data[:,1]\n",
    "\n",
    "# Histograms of y variable\n",
    "plt.figure(figsize=(10,4))\n",
    "plt.subplot(1,2,1)\n",
    "plt.title('Actual Cost - Expected Cost (bps)')\n",
    "_ = plt.hist(y_train,bins=60)\n",
    "plt.subplot(1,2,2)\n",
    "_ = plt.hist(y_train,bins=60,range=(-30, 30))"
   ]
  },
  {
   "cell_type": "markdown",
   "metadata": {},
   "source": [
    "## 1a. Magnitude - Bayesian Linear Regression\n",
    "\n",
    "Here, we aim to predict how large the deviation between actual and expected costs will be. Because we aren't focused on the direction, we will look only at the absolute value of the variables. This emphasizes the idea that, on an absolute basis, larger values within explanatory variables should result in larger deviations.\n",
    "\n",
    "### Data"
   ]
  },
  {
   "cell_type": "code",
   "execution_count": 5,
   "metadata": {},
   "outputs": [],
   "source": [
    "# Magnitude Training Data\n",
    "X_train_size = np.absolute(data[:, 2:])\n",
    "y_train_size = np.absolute(data[:, 0]-data[:,1])"
   ]
  },
  {
   "cell_type": "markdown",
   "metadata": {},
   "source": [
    "\n",
    "### Model - Bayesian Linear Regression\n",
    "\n",
    "Initial testing with a GP model resulted in kernels that were not positive definite due to the large feature and sample size. Instead, we start with a linear regression model.\n",
    "\n",
    "The linear regression model has the following form, with weights $w$ and coefficient $b$ latent variables and assumed known variances 1:\n",
    "\n",
    "$$p(w)=Normal(w \\mid 0,1)$$\n",
    "$$p(b)=Normal(b \\mid 0,1)$$\n",
    "$$p(y \\mid w, b, X)= \\prod_{n=1}^N Normal(y_n \\mid {x_n}^Tw+b,1)$$"
   ]
  },
  {
   "cell_type": "code",
   "execution_count": 6,
   "metadata": {
    "collapsed": true
   },
   "outputs": [],
   "source": [
    "X_size = tf.placeholder(tf.float32, [N, D_size]) \n",
    "w_size = Normal(loc=tf.zeros(D_size), scale=tf.ones(D_size)) \n",
    "b_size = Normal(loc=tf.zeros(1), scale=tf.ones(1)) \n",
    "y_size = Normal(loc=ed.dot(X_size, w_size) + b_size, scale=tf.ones(N))"
   ]
  },
  {
   "cell_type": "markdown",
   "metadata": {},
   "source": [
    "### Inference\n",
    "\n",
    "We will use Kullbck-Leibler divergence to learn the weights and intercept of the regression. KLqp is a non-symmetrical variational inference algorithm that seeks to approximate the posterior by optimizing the distribution's parameters. It does this by minimizing the divergence of two distributions: the observed and the parameterized theoretical. Versus MCMC, variational inference tends to be faster and more scalable. This will become important in later on."
   ]
  },
  {
   "cell_type": "code",
   "execution_count": 7,
   "metadata": {
    "collapsed": true
   },
   "outputs": [],
   "source": [
    "qw = Normal(loc=tf.Variable(tf.random_normal([D_size])),\n",
    "            scale=tf.nn.softplus(tf.Variable(tf.random_normal([D_size]))))\n",
    "qb = Normal(loc=tf.Variable(tf.random_normal([1])),\n",
    "            scale=tf.nn.softplus(tf.Variable(tf.random_normal([1]))))\n",
    "\n",
    "inference_1 = ed.KLqp({w_size: qw, b_size: qb}, \n",
    "                      data={X_size: X_train_size, y_size: y_train_size})\n",
    "inference_1.initialize(n_iter=10000)"
   ]
  },
  {
   "cell_type": "code",
   "execution_count": 8,
   "metadata": {
    "scrolled": false
   },
   "outputs": [
    {
     "name": "stdout",
     "output_type": "stream",
     "text": [
      "{'t': 1, 'loss': 7.3910004e+15}\n",
      "{'t': 2001, 'loss': 2.198408e+14}\n",
      "{'t': 4001, 'loss': 5.9436517e+12}\n",
      "{'t': 6001, 'loss': 3.6871531e+13}\n",
      "{'t': 8001, 'loss': 8.2995603e+12}\n"
     ]
    },
    {
     "data": {
      "image/png": "[encoded data removed]",
      "text/plain": [
       "<matplotlib.figure.Figure at 0xf119668>"
      ]
     },
     "metadata": {},
     "output_type": "display_data"
    }
   ],
   "source": [
    "sess_1 = ed.get_session()\n",
    "init_1 = tf.global_variables_initializer()\n",
    "init_1.run()\n",
    "curve = []\n",
    "for _ in range(inference_1.n_iter):\n",
    "    status_1 = inference_1.update()\n",
    "    if _%2000 == 0:\n",
    "        print(status_1)\n",
    "    curve.append(status_1['loss'])\n",
    "_=plt.semilogy(curve)"
   ]
  },
  {
   "cell_type": "markdown",
   "metadata": {},
   "source": [
    "### Criticism\n",
    "\n",
    "This model has difficulty converging under KLQP (shown) as well as other inference algorithms. As expected, the mean absolute error is high."
   ]
  },
  {
   "cell_type": "code",
   "execution_count": 9,
   "metadata": {
    "collapsed": true
   },
   "outputs": [],
   "source": [
    "y_post_size_1 = ed.copy(y_size,{w_size: qw, b_size: qb})"
   ]
  },
  {
   "cell_type": "code",
   "execution_count": 10,
   "metadata": {},
   "outputs": [
    {
     "name": "stdout",
     "output_type": "stream",
     "text": [
      "Mean Absolute Error on Training Data\n"
     ]
    },
    {
     "data": {
      "text/plain": [
       "5359.6606"
      ]
     },
     "execution_count": 10,
     "metadata": {},
     "output_type": "execute_result"
    }
   ],
   "source": [
    "print(\"Mean Absolute Error on Training Data\")\n",
    "ed.evaluate('mean_absolute_error', data={y_post_size_1: y_train_size, X_size: X_train_size})"
   ]
  },
  {
   "cell_type": "code",
   "execution_count": 11,
   "metadata": {},
   "outputs": [
    {
     "data": {
      "image/png": "[encoded data removed]",
      "text/plain": [
       "<matplotlib.figure.Figure at 0x10cbc4a8>"
      ]
     },
     "metadata": {},
     "output_type": "display_data"
    }
   ],
   "source": [
    "test_1=y_post_size_1.eval(feed_dict={X_size: X_train_size})\n",
    "\n",
    "plt.figure(figsize=(10,4))\n",
    "ax1=plt.subplot(1,2,1)\n",
    "plt.title('Actual Deviation')\n",
    "_ = plt.hist(y_train_size,bins=60)\n",
    "plt.subplot(1,2,2)\n",
    "plt.title('Predicted')\n",
    "_ = plt.hist(test_1,bins=60)"
   ]
  },
  {
   "cell_type": "markdown",
   "metadata": {},
   "source": [
    "## 1b. Magnitude - Gamma Regression\n",
    "\n",
    "The issue is likely due to the assumption that the y variable is normally distributed. As we see above, it may make more sense to use a gamma or lognormal distribution rather than a linear regression."
   ]
  },
  {
   "cell_type": "code",
   "execution_count": 12,
   "metadata": {
    "collapsed": true
   },
   "outputs": [],
   "source": [
    "X_train_size_2 = np.absolute(data[:, 2:])\n",
    "y_train_size_2 = np.absolute(data[:, 0]-data[:,1])"
   ]
  },
  {
   "cell_type": "markdown",
   "metadata": {},
   "source": [
    "\n",
    "### Model\n",
    "\n",
    "The gamma distribution is defined over positive real numbers, with parameters $\\alpha$ and $\\beta$ and normalizing constant $C$, as follows:\n",
    "\n",
    "$$ y_{i} = Gamma(\\alpha,\\beta) = \\frac{1}{C}x^{\\alpha-1}\\exp{(-x \\beta)} $$ \n",
    "\n",
    "$$\\text{with} $$\n",
    "\n",
    "$$ E(y_{i}) = \\frac{\\alpha}{\\beta} \\text{ and } Var(y_{i}) = \\frac{\\alpha}{\\beta^2}  $$ \n",
    "\n",
    "As $\\alpha$ and $\\beta$ need to be positive real numbers, we can define them as the exponential of variables $\\nu_0$ and $\\nu_1$ that follow a normal distribution.\n"
   ]
  },
  {
   "cell_type": "code",
   "execution_count": 13,
   "metadata": {
    "collapsed": true
   },
   "outputs": [],
   "source": [
    "X_size_2 = tf.placeholder(tf.float32, [N, D_size])\n",
    "nu0 = Normal(loc=tf.ones(1), scale=tf.ones(1))\n",
    "nu1 = Normal(loc=tf.ones(1), scale=tf.ones(1))\n",
    "\n",
    "alpha = tf.exp(nu0)\n",
    "beta = tf.exp(nu1)\n",
    "\n",
    "y_size_2 = Gamma(concentration=tf.ones(N)*alpha, rate=tf.ones(N)*beta)"
   ]
  },
  {
   "cell_type": "markdown",
   "metadata": {},
   "source": [
    "\n",
    "### Inference\n",
    "\n",
    "Run KLqp on $\\nu_0$ and $\\nu_1$."
   ]
  },
  {
   "cell_type": "code",
   "execution_count": 14,
   "metadata": {
    "collapsed": true
   },
   "outputs": [],
   "source": [
    "qnu0 = Normal(loc=tf.Variable(tf.random_normal([1])), \n",
    "              scale=tf.nn.softplus(tf.Variable(tf.random_normal([1]))))\n",
    "qnu1 = Normal(loc=tf.Variable(tf.random_normal([1])), \n",
    "              scale=tf.nn.softplus(tf.Variable(tf.random_normal([1]))))\n",
    "\n",
    "inference_2 = ed.KLqp({nu0: qnu0, nu1: qnu1}, \n",
    "                      data={X_size_2: X_train_size_2, y_size_2: y_train_size_2})\n",
    "inference_2.initialize(n_iter=10000)"
   ]
  },
  {
   "cell_type": "code",
   "execution_count": 15,
   "metadata": {
    "scrolled": false
   },
   "outputs": [
    {
     "name": "stdout",
     "output_type": "stream",
     "text": [
      "{'t': 1, 'loss': 10895.33}\n",
      "{'t': 2001, 'loss': 3737.0022}\n",
      "{'t': 4001, 'loss': 3738.6167}\n",
      "{'t': 6001, 'loss': 3737.3462}\n",
      "{'t': 8001, 'loss': 3737.5256}\n"
     ]
    },
    {
     "data": {
      "image/png": "[encoded data removed]",
      "text/plain": [
       "<matplotlib.figure.Figure at 0xf238fd0>"
      ]
     },
     "metadata": {},
     "output_type": "display_data"
    }
   ],
   "source": [
    "sess_2 = ed.get_session()\n",
    "init_2 = tf.global_variables_initializer()\n",
    "init_2.run()\n",
    "curve = []\n",
    "for _ in range(inference_2.n_iter):\n",
    "    status_2 = inference_2.update()\n",
    "    if _%2000 == 0:\n",
    "        print(status_2)\n",
    "    curve.append(status_2['loss'])\n",
    "_=plt.semilogy(curve)"
   ]
  },
  {
   "cell_type": "code",
   "execution_count": 16,
   "metadata": {
    "collapsed": true
   },
   "outputs": [],
   "source": [
    "y_post_size_2 = ed.copy(y_size_2,{nu0: qnu0, nu1: qnu1})"
   ]
  },
  {
   "cell_type": "code",
   "execution_count": 17,
   "metadata": {},
   "outputs": [
    {
     "name": "stdout",
     "output_type": "stream",
     "text": [
      "Mean Absolute Error on Training Data\n"
     ]
    },
    {
     "data": {
      "text/plain": [
       "20.75313"
      ]
     },
     "execution_count": 17,
     "metadata": {},
     "output_type": "execute_result"
    }
   ],
   "source": [
    "print(\"Mean Absolute Error on Training Data\")\n",
    "ed.evaluate('mean_absolute_error', data={y_post_size_2: y_train_size_2, X_size_2: X_train_size_2})"
   ]
  },
  {
   "cell_type": "code",
   "execution_count": 18,
   "metadata": {},
   "outputs": [
    {
     "name": "stdout",
     "output_type": "stream",
     "text": [
      "Std Dev of Actual Data\n",
      "38.3814065033\n"
     ]
    }
   ],
   "source": [
    "print(\"Std Dev of Actual Data\")\n",
    "print(np.sqrt(np.var(y_train_size_2)))"
   ]
  },
  {
   "cell_type": "code",
   "execution_count": 19,
   "metadata": {},
   "outputs": [
    {
     "data": {
      "image/png": "[encoded data removed]",
      "text/plain": [
       "<matplotlib.figure.Figure at 0x10bb7940>"
      ]
     },
     "metadata": {},
     "output_type": "display_data"
    }
   ],
   "source": [
    "test_2=y_post_size_2.eval(feed_dict={X_size_2: X_train_size_2})\n",
    "\n",
    "plt.figure(figsize=(10,4))\n",
    "ax1=plt.subplot(1,2,1)\n",
    "plt.title('Actual Deviation')\n",
    "_ = plt.hist(y_train_size_2,bins=60)\n",
    "plt.subplot(1,2,2,sharex=ax1, sharey=ax1)\n",
    "plt.title('Predicted')\n",
    "_ = plt.hist(test_2, bins=40)"
   ]
  },
  {
   "cell_type": "markdown",
   "metadata": {},
   "source": [
    "## 2a. Direction - Momentum Only\n",
    "\n",
    "Momentum is the rate of acceleration in a stock's price. The philosophy behind momentum investing is that stock's the are performing well will continue to perform well. As such, momentum can be an indicator of the direction of short-term price moves.\n",
    "\n",
    "### Data\n",
    "\n",
    "\n"
   ]
  },
  {
   "cell_type": "code",
   "execution_count": 20,
   "metadata": {},
   "outputs": [
    {
     "name": "stdout",
     "output_type": "stream",
     "text": [
      "Number of features: 3\n"
     ]
    }
   ],
   "source": [
    "X_train_dir_1 = data[:, 6:]\n",
    "y_train_dir_1 = data[:, 0]-data[:,1]\n",
    "# Convert to Classification\n",
    "y_train_dir_1[y_train_dir_1[:] > 0] = 1  \n",
    "y_train_dir_1[y_train_dir_1[:] < 0] = 0\n",
    "\n",
    "D_dir_1 = X_train_dir_1.shape[1]\n",
    "print(\"Number of features: {}\".format(D_dir_1))"
   ]
  },
  {
   "cell_type": "markdown",
   "metadata": {},
   "source": [
    "### Model - GP Classification\n",
    "\n",
    "A Gaussian Process is a flexible model with a prior that defines functions as smooth and random variables as joint Gaussian distributions (Rasmussen and Williams, 2006). It allows for the relaxation of assumptions surrounding linearity and distributions.\n",
    "\n",
    "The likelihood for a GP is defined as:\n",
    "\n",
    "$$p(y)=Normal(y \\mid 0,K)$$\n",
    "\n",
    "where K is the covariance matrix evaluated by the rdf kernel. The radial-basis function kernel, or squared-exponential kernel, is a stationary kernel of the form:\n",
    "\n",
    "$$k(x, x') = \\sigma^2 exp(-\\frac{1}{2} \\sum_{d=1}^{D} \\frac{1}{{l_d}^2} {(x_d-x'_d)}^2)$$\n",
    "\n",
    "with length-scale parameter $l_d > 0$ and output variance $\\sigma^2$. This kernel is infinitely differentiable, which promotes smoothness.\n",
    "\n",
    "To convert this into a classification problem, we define a multivariate normal prior and Bernoulli likelhood:\n",
    "\n",
    "$$p(z)=Normal(z\\mid 0,K)$$\n",
    "\n",
    "$$p(y_n \\mid z, x_n)=Bernoulli(y_n\\mid logit^{-1}(z_n))$$\n",
    "\n",
    "\n",
    "In order to parameterize the multivariate normal, we use a Cholesky decomposition of the kernel matrix, which requires a positive definite matrix. In order to correct for numerical errors that cause small, negative eigenvalues, we add a small constant to the diagonal of the kernel.\n"
   ]
  },
  {
   "cell_type": "code",
   "execution_count": 21,
   "metadata": {
    "collapsed": true
   },
   "outputs": [],
   "source": [
    "X_dir_1 = tf.placeholder(tf.float32, [N, D_dir_1])\n",
    "f_dir_1 = MultivariateNormalTriL(loc=tf.zeros(N), \n",
    "                                 scale_tril=tf.cholesky(rbf(X_dir_1)+0.00001*np.eye(N)))\n",
    "y_dir_1 = Bernoulli(logits=f_dir_1)"
   ]
  },
  {
   "cell_type": "markdown",
   "metadata": {},
   "source": [
    "### Inference\n",
    "\n",
    "For inference, we run KLqp across the function space f."
   ]
  },
  {
   "cell_type": "code",
   "execution_count": 22,
   "metadata": {
    "collapsed": true
   },
   "outputs": [],
   "source": [
    "qf_dir_1 = Normal(loc=tf.Variable(tf.random_normal([N])),\n",
    "            scale=tf.nn.softplus(tf.Variable(tf.random_normal([N]))))\n",
    "\n",
    "inference_dir_1 = ed.KLqp({f_dir_1: qf_dir_1}, \n",
    "                          data={X_dir_1: X_train_dir_1, y_dir_1: y_train_dir_1})\n",
    "inference_dir_1.initialize(n_iter=10000)"
   ]
  },
  {
   "cell_type": "code",
   "execution_count": 23,
   "metadata": {},
   "outputs": [
    {
     "name": "stdout",
     "output_type": "stream",
     "text": [
      "{'t': 1, 'loss': 94509296.0}\n",
      "{'t': 2001, 'loss': 36050.762}\n",
      "{'t': 4001, 'loss': 19824.6}\n",
      "{'t': 6001, 'loss': 18935.313}\n",
      "{'t': 8001, 'loss': 17264.281}\n"
     ]
    },
    {
     "data": {
      "image/png": "[encoded data removed]",
      "text/plain": [
       "<matplotlib.figure.Figure at 0x8800470>"
      ]
     },
     "metadata": {},
     "output_type": "display_data"
    }
   ],
   "source": [
    "sess_3 = ed.get_session()\n",
    "init_3 = tf.global_variables_initializer()\n",
    "init_3.run()\n",
    "curve = []\n",
    "for _ in range(inference_dir_1.n_iter):\n",
    "    status_3 = inference_dir_1.update()\n",
    "    if _%2000 == 0:\n",
    "        print(status_3)\n",
    "    curve.append(status_3['loss'])\n",
    "_=plt.semilogy(curve)"
   ]
  },
  {
   "cell_type": "markdown",
   "metadata": {},
   "source": [
    "### Criticism"
   ]
  },
  {
   "cell_type": "code",
   "execution_count": 24,
   "metadata": {
    "collapsed": true
   },
   "outputs": [],
   "source": [
    "y_post_dir_1 = ed.copy(y_dir_1,{f_dir_1:qf_dir_1})"
   ]
  },
  {
   "cell_type": "code",
   "execution_count": 25,
   "metadata": {},
   "outputs": [
    {
     "name": "stdout",
     "output_type": "stream",
     "text": [
      "Categorical Accuracy on Training Data\n"
     ]
    },
    {
     "data": {
      "text/plain": [
       "0.50933039"
      ]
     },
     "execution_count": 25,
     "metadata": {},
     "output_type": "execute_result"
    }
   ],
   "source": [
    "print(\"Categorical Accuracy on Training Data\")\n",
    "ed.evaluate('categorical_accuracy', data={y_post_dir_1: y_train_dir_1, X_dir_1: X_train_dir_1})"
   ]
  },
  {
   "cell_type": "markdown",
   "metadata": {},
   "source": [
    "By randomly guessing, we have a 50% chance  of classifying the direction correctly. Is something missing from the model?"
   ]
  },
  {
   "cell_type": "markdown",
   "metadata": {},
   "source": [
    "## 2b. Direction - Momentum and Trade Type (Buy/Sell)\n",
    "\n",
    "We now introduce information about the trade type, where a 1 indicates buying and -1 indicates selling. This feature is important because the impact of stock price movements is different depending on if you're buying or selling. We can easily add categorical variables into GP given its flexible structure.\n",
    "\n",
    "### Data\n",
    "\n",
    "\n"
   ]
  },
  {
   "cell_type": "code",
   "execution_count": 32,
   "metadata": {},
   "outputs": [
    {
     "name": "stdout",
     "output_type": "stream",
     "text": [
      "Number of features: 4\n"
     ]
    }
   ],
   "source": [
    "X_train_dir_2 = data[:, 2:6:]\n",
    "y_train_dir_2 = data[:, 0]-data[:,1]\n",
    "# Convert Y to classification\n",
    "y_train_dir_2[y_train_dir_2[:] > 0] = 1  \n",
    "y_train_dir_2[y_train_dir_2[:] < 0] = 0\n",
    "# Convert Trade Amount to Buy/Sell\n",
    "X_train_dir_2[X_train_dir_2[:,0] > 0,0] = 1\n",
    "X_train_dir_2[X_train_dir_2[:,0] < 0,0] = -1\n",
    "D_dir_2 = X_train_dir_2.shape[1]\n",
    "print(\"Number of features: {}\".format(D_dir_2))"
   ]
  },
  {
   "cell_type": "markdown",
   "metadata": {},
   "source": [
    "### Model & Inference\n",
    "\n",
    "We use the same model and inference assumptions and add the trade type feature."
   ]
  },
  {
   "cell_type": "code",
   "execution_count": 33,
   "metadata": {
    "collapsed": true
   },
   "outputs": [],
   "source": [
    "X_dir_2 = tf.placeholder(tf.float32, [N, D_dir_2])\n",
    "f_dir_2 = MultivariateNormalTriL(loc=tf.zeros(N), \n",
    "                                 scale_tril=tf.cholesky(rbf(X_dir_2)+0.0001*np.eye(N)))\n",
    "y_dir_2 = Bernoulli(logits=f_dir_2)"
   ]
  },
  {
   "cell_type": "code",
   "execution_count": 34,
   "metadata": {
    "collapsed": true
   },
   "outputs": [],
   "source": [
    "qf_dir_2 = Normal(loc=tf.Variable(tf.random_normal([N])),\n",
    "            scale=tf.nn.softplus(tf.Variable(tf.random_normal([N]))))\n",
    "\n",
    "inference_dir_2 = ed.KLqp({f_dir_2: qf_dir_2}, \n",
    "                          data={X_dir_2: X_train_dir_2, y_dir_2: y_train_dir_2})\n",
    "inference_dir_2.initialize(n_iter=10000)"
   ]
  },
  {
   "cell_type": "code",
   "execution_count": 36,
   "metadata": {},
   "outputs": [
    {
     "name": "stdout",
     "output_type": "stream",
     "text": [
      "{'t': 1, 'loss': 7229973.5}\n",
      "{'t': 2001, 'loss': 2131.3628}\n",
      "{'t': 4001, 'loss': 1635.1975}\n",
      "{'t': 6001, 'loss': 1505.8467}\n",
      "{'t': 8001, 'loss': 1390.1458}\n"
     ]
    },
    {
     "data": {
      "image/png": "[encoded data removed]",
      "text/plain": [
       "<matplotlib.figure.Figure at 0x155ab128>"
      ]
     },
     "metadata": {},
     "output_type": "display_data"
    }
   ],
   "source": [
    "sess = ed.get_session()\n",
    "init = tf.global_variables_initializer()\n",
    "init.run()\n",
    "curve = []\n",
    "for _ in range(inference_dir_2.n_iter):\n",
    "    status = inference_dir_2.update()\n",
    "    if _%2000 == 0:\n",
    "        print(status)\n",
    "    curve.append(status['loss'])\n",
    "_=plt.semilogy(curve)"
   ]
  },
  {
   "cell_type": "markdown",
   "metadata": {},
   "source": [
    "### Criticism"
   ]
  },
  {
   "cell_type": "code",
   "execution_count": 37,
   "metadata": {
    "collapsed": true
   },
   "outputs": [],
   "source": [
    "y_post_dir_2 = ed.copy(y_dir_2,{f_dir_2:qf_dir_2})"
   ]
  },
  {
   "cell_type": "code",
   "execution_count": 38,
   "metadata": {},
   "outputs": [
    {
     "name": "stdout",
     "output_type": "stream",
     "text": [
      "Categorical Accuracy on Training Data\n"
     ]
    },
    {
     "data": {
      "text/plain": [
       "0.83315039"
      ]
     },
     "execution_count": 38,
     "metadata": {},
     "output_type": "execute_result"
    }
   ],
   "source": [
    "print(\"Categorical Accuracy on Training Data\")\n",
    "ed.evaluate('categorical_accuracy', data={y_post_dir_2: y_train_dir_2, X_dir_2: X_train_dir_2})"
   ]
  },
  {
   "cell_type": "markdown",
   "metadata": {},
   "source": [
    "The accuracy of the posterior is now much higher, around 80-85%."
   ]
  }
 ],
 "metadata": {
  "anaconda-cloud": {},
  "kernelspec": {
   "display_name": "Python [default]",
   "language": "python",
   "name": "python3"
  },
  "language_info": {
   "codemirror_mode": {
    "name": "ipython",
    "version": 3
   },
   "file_extension": ".py",
   "mimetype": "text/x-python",
   "name": "python",
   "nbconvert_exporter": "python",
   "pygments_lexer": "ipython3",
   "version": "3.6.1"
  }
 },
 "nbformat": 4,
 "nbformat_minor": 1
}
