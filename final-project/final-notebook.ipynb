{
 "cells": [
  {
   "cell_type": "markdown",
   "metadata": {},
   "source": [
    "# Trade Execution - Predicting Shortfall\n",
    "\n",
    "## Introduction\n",
    "Within finance, an optimal trade execution strategy can enhance a portfolio’s performance by\n",
    "by using short-term expectations of stock price movements to optimally time a trade.\n",
    "However, it is difficult to capture all of the idiosyncratic causes of stock price changes in the short term. Alpha profiling, which uses the past behavior of portfolio managers\n",
    "(PMs) to learn patterns about optimal trade executions (The Trade, 2014), seeks to indirectly\n",
    "capture the idiosyncratic market beliefs using the PMs historical trading strategy.\n",
    "\n",
    "A webpage version will be available at\n",
    "https://github.com/silkeherold/probprog-finalproject/final-project/...."
   ]
  },
  {
   "cell_type": "code",
   "execution_count": 106,
   "metadata": {},
   "outputs": [],
   "source": [
    "%matplotlib inline\n",
    "import edward as ed\n",
    "import numpy as np\n",
    "import tensorflow as tf\n",
    "import matplotlib.pylab as plt\n",
    "import scipy.stats as sps\n",
    "\n",
    "from edward.models import Bernoulli,MultivariateNormalTriL, Normal, Empirical\n",
    "from edward.util import rbf\n",
    "from tensorflow.contrib.distributions import bijectors\n",
    "\n",
    "\n",
    "plt.style.use('ggplot')"
   ]
  },
  {
   "cell_type": "code",
   "execution_count": 3,
   "metadata": {},
   "outputs": [],
   "source": [
    "ed.set_seed(42)"
   ]
  },
  {
   "cell_type": "markdown",
   "metadata": {},
   "source": [
    "## Data Overview\n",
    "\n",
    "The dataset is comprised of the following colums:\n",
    "\n",
    "* Implementation Shortfall (bps) R\n",
    "* Expected Cost (bps) R+\n",
    "* Trade Amount ($), negative indicates sells R\n",
    "* Forecast Participation Rate (%) R+\n",
    "* Stock Volatility R+\n",
    " * 5 day, 10 day\n",
    "* Momentum R\n",
    " * Open, 5 Day, 10 Day\n",
    "    \n",
    "The goal is to predict the deviation between implementation shortfall (actual cost) and expected costs. These deviations are largely influenced by underlying price changes in the market. The model is split into two components: direction and magnitude.\n",
    "\n",
    "<b>Magnitude</b>\n",
    "\n",
    "This is a regression problem, which will indicate how large of an absolute deviation will occur. Moves in underlying prices are largely dependent on the trade size, security volatility, and absolute momentum strength. They are also influenced by external idiosynractic events, which are not covered here.\n",
    "\n",
    "<b>Direction</b>\n",
    "\n",
    "This is a classification problem that will determine whether the deviation will be positive or not. A positive deviation indicates that the execution cost is more expensive than predicted. These deviations are mostly driven by short-term price moves. The direction of short-term price moves is modeled using the momentum components, which indicate the extent that a price has been increasing or in recent history. "
   ]
  },
  {
   "cell_type": "code",
   "execution_count": 93,
   "metadata": {},
   "outputs": [
    {
     "name": "stdout",
     "output_type": "stream",
     "text": [
      "Number of data points: 911\n",
      "Number of magnitude features: 7\n",
      "Number of direction features: 3\n"
     ]
    },
    {
     "data": {
      "image/png": "[encoded data removed]",
      "text/plain": [
       "<matplotlib.figure.Figure at 0x55f88a20>"
      ]
     },
     "metadata": {},
     "output_type": "display_data"
    }
   ],
   "source": [
    "data = np.loadtxt('data/train_data.csv', delimiter=',',skiprows=1)\n",
    "\n",
    "# Data Size\n",
    "N = data.shape[0]  # number of data points\n",
    "D_size = data.shape[1]-2  # number of features\n",
    "D_dir = data.shape[1]-2-4  # number of features\n",
    "print(\"Number of data points: {}\".format(N))\n",
    "print(\"Number of magnitude features: {}\".format(D_size))\n",
    "print(\"Number of direction features: {}\".format(D_dir))\n",
    "\n",
    "# Cost Deviation\n",
    "y_train = data[:, 0]-data[:,1]  # IS - EC\n",
    "\n",
    "# Histograms of y variable\n",
    "plt.figure(figsize=(10,4))\n",
    "plt.subplot(1,2,1)\n",
    "plt.title('Actual Cost - Expected Cost (bps)')\n",
    "_ = plt.hist(y_train,bins=60)\n",
    "plt.subplot(1,2,2)\n",
    "_ = plt.hist(y_train,bins=60,range=(-30, 40))"
   ]
  },
  {
   "cell_type": "markdown",
   "metadata": {},
   "source": [
    "## 1. Magnitude\n",
    "### Data"
   ]
  },
  {
   "cell_type": "code",
   "execution_count": 94,
   "metadata": {},
   "outputs": [
    {
     "data": {
      "image/png": "[encoded data removed]",
      "text/plain": [
       "<matplotlib.figure.Figure at 0x55effbe0>"
      ]
     },
     "metadata": {},
     "output_type": "display_data"
    }
   ],
   "source": [
    "# Magnitude Training Data\n",
    "X_train_size = np.absolute(data[:, 2:])\n",
    "y_train_size = np.absolute(data[:, 0]-data[:,1])\n",
    "\n",
    "# Histograms of y variable\n",
    "plt.figure(figsize=(10,4))\n",
    "plt.subplot(1,2,1)\n",
    "plt.title('Abs(Actual Cost - Expected Cost) (bps)')\n",
    "_ = plt.hist(y_train_size,bins=60)"
   ]
  },
  {
   "cell_type": "markdown",
   "metadata": {},
   "source": [
    "\n",
    "### Model - Bayesian Linear Regression\n",
    "\n"
   ]
  },
  {
   "cell_type": "code",
   "execution_count": 51,
   "metadata": {},
   "outputs": [
    {
     "ename": "AttributeError",
     "evalue": "module 'edward' has no attribute 'transform'",
     "output_type": "error",
     "traceback": [
      "\u001b[1;31m---------------------------------------------------------------------------\u001b[0m",
      "\u001b[1;31mAttributeError\u001b[0m                            Traceback (most recent call last)",
      "\u001b[1;32m<ipython-input-51-bf2c4fb1795f>\u001b[0m in \u001b[0;36m<module>\u001b[1;34m()\u001b[0m\n\u001b[0;32m      5\u001b[0m \u001b[0mb_size\u001b[0m \u001b[1;33m=\u001b[0m \u001b[0mNormal\u001b[0m\u001b[1;33m(\u001b[0m\u001b[0mloc\u001b[0m\u001b[1;33m=\u001b[0m\u001b[0mtf\u001b[0m\u001b[1;33m.\u001b[0m\u001b[0mzeros\u001b[0m\u001b[1;33m(\u001b[0m\u001b[1;36m1\u001b[0m\u001b[1;33m)\u001b[0m\u001b[1;33m,\u001b[0m \u001b[0mscale\u001b[0m\u001b[1;33m=\u001b[0m\u001b[0mtf\u001b[0m\u001b[1;33m.\u001b[0m\u001b[0mones\u001b[0m\u001b[1;33m(\u001b[0m\u001b[1;36m1\u001b[0m\u001b[1;33m)\u001b[0m\u001b[1;33m)\u001b[0m\u001b[1;33m\u001b[0m\u001b[0m\n\u001b[0;32m      6\u001b[0m \u001b[0my\u001b[0m \u001b[1;33m=\u001b[0m \u001b[0mNormal\u001b[0m\u001b[1;33m(\u001b[0m\u001b[0mloc\u001b[0m\u001b[1;33m=\u001b[0m\u001b[0med\u001b[0m\u001b[1;33m.\u001b[0m\u001b[0mdot\u001b[0m\u001b[1;33m(\u001b[0m\u001b[0mX_size\u001b[0m\u001b[1;33m,\u001b[0m \u001b[0mw_size\u001b[0m\u001b[1;33m)\u001b[0m \u001b[1;33m+\u001b[0m \u001b[0mb_size\u001b[0m\u001b[1;33m,\u001b[0m \u001b[0mscale\u001b[0m\u001b[1;33m=\u001b[0m\u001b[0mtf\u001b[0m\u001b[1;33m.\u001b[0m\u001b[0mones\u001b[0m\u001b[1;33m(\u001b[0m\u001b[0mN\u001b[0m\u001b[1;33m)\u001b[0m\u001b[1;33m)\u001b[0m\u001b[1;33m\u001b[0m\u001b[0m\n\u001b[1;32m----> 7\u001b[1;33m \u001b[0my_size\u001b[0m \u001b[1;33m=\u001b[0m \u001b[0med\u001b[0m\u001b[1;33m.\u001b[0m\u001b[0mtransform\u001b[0m\u001b[1;33m(\u001b[0m\u001b[0my\u001b[0m\u001b[1;33m,\u001b[0m\u001b[0mbijectors\u001b[0m\u001b[1;33m.\u001b[0m\u001b[0mExp\u001b[0m\u001b[1;33m(\u001b[0m\u001b[1;33m)\u001b[0m\u001b[1;33m)\u001b[0m\u001b[1;33m\u001b[0m\u001b[0m\n\u001b[0m\u001b[0;32m      8\u001b[0m \u001b[1;33m\u001b[0m\u001b[0m\n\u001b[0;32m      9\u001b[0m \u001b[1;33m\u001b[0m\u001b[0m\n",
      "\u001b[1;31mAttributeError\u001b[0m: module 'edward' has no attribute 'transform'"
     ]
    }
   ],
   "source": [
    "ds = tf.contrib.distributions\n",
    "\n",
    "X_size = tf.placeholder(tf.float32, [N, D_size]) \n",
    "w_size = Normal(loc=tf.zeros(D_size), scale=tf.ones(D_size)) \n",
    "b_size = Normal(loc=tf.zeros(1), scale=tf.ones(1)) \n",
    "y = Normal(loc=ed.dot(X_size, w_size) + b_size, scale=tf.ones(N)) \n",
    "y_size = ed.transform(y,bijectors.Exp())\n",
    "\n",
    "\n",
    "#y_size = ln.parameters(loc=ed.dot(X_size, w_size) + b_size, scale=tf.ones(N)) "
   ]
  },
  {
   "cell_type": "markdown",
   "metadata": {},
   "source": [
    "### Inference\n",
    "\n",
    "Perform variational inference.\n",
    "Define the variational model to be a fully factorized normal."
   ]
  },
  {
   "cell_type": "code",
   "execution_count": null,
   "metadata": {},
   "outputs": [],
   "source": [
    "qw = Normal(loc=tf.Variable(tf.random_normal([D_size])),\n",
    "            scale=tf.nn.softplus(tf.Variable(tf.random_normal([D_size]))))\n",
    "qb = Normal(loc=tf.Variable(tf.random_normal([1])),\n",
    "            scale=tf.nn.softplus(tf.Variable(tf.random_normal([1]))))\n",
    "\n",
    "inference = ed.KLqp({w_size: qw, b_size: qb}, data={X_size: X_train_size, y_size: y_train_size})\n",
    "inference.initialize(n_iter=10000)\n"
   ]
  },
  {
   "cell_type": "markdown",
   "metadata": {},
   "source": [
    "Run variational inference for `500` iterations."
   ]
  },
  {
   "cell_type": "code",
   "execution_count": null,
   "metadata": {
    "scrolled": false
   },
   "outputs": [],
   "source": [
    "sess = ed.get_session()\n",
    "init = tf.global_variables_initializer()\n",
    "init.run()\n",
    "curve = []\n",
    "for _ in range(inference.n_iter):\n",
    "    status = inference.update()\n",
    "    if _%1000 == 0:\n",
    "        print(status)\n",
    "    curve.append(status['loss'])\n",
    "_=plt.semilogy(curve)"
   ]
  },
  {
   "cell_type": "markdown",
   "metadata": {},
   "source": [
    "In this case\n",
    "`KLqp` defaults to minimizing the\n",
    "$\\text{KL}(q\\|p)$ divergence measure using the reparameterization\n",
    "gradient.\n",
    "For more details on inference, see the [$\\text{KL}(q\\|p)$ tutorial](/tutorials/klqp).\n",
    "(This example happens to be slow because evaluating and inverting full\n",
    "covariances in Gaussian processes happens to be slow.)"
   ]
  },
  {
   "cell_type": "markdown",
   "metadata": {},
   "source": [
    "## 2. Direction\n",
    "### Data\n",
    "\n",
    "\n"
   ]
  },
  {
   "cell_type": "code",
   "execution_count": 95,
   "metadata": {},
   "outputs": [],
   "source": [
    "X_train_dir = data[:, 6:]\n",
    "y_train_dir = data[:, 0]-data[:,1]\n",
    "# Convert to Classification\n",
    "y_train_dir[y_train_dir[:] > 0] = 1  \n",
    "y_train_dir[y_train_dir[:] < 0] = 0"
   ]
  },
  {
   "cell_type": "markdown",
   "metadata": {},
   "source": [
    "### Model - GP Classification"
   ]
  },
  {
   "cell_type": "code",
   "execution_count": 96,
   "metadata": {
    "collapsed": true
   },
   "outputs": [],
   "source": [
    "X_dir = tf.placeholder(tf.float32, [N, D_dir])\n",
    "f_dir = MultivariateNormalTriL(loc=tf.zeros(N), scale_tril=tf.cholesky(rbf(X_dir)+0.00001*np.eye(N)))\n",
    "y_dir = Bernoulli(logits=f_dir)"
   ]
  },
  {
   "cell_type": "markdown",
   "metadata": {},
   "source": [
    "### Inference"
   ]
  },
  {
   "cell_type": "code",
   "execution_count": 97,
   "metadata": {
    "collapsed": true
   },
   "outputs": [],
   "source": [
    "qf_dir = Normal(loc=tf.Variable(tf.random_normal([N])),\n",
    "            scale=tf.nn.softplus(tf.Variable(tf.random_normal([N]))))"
   ]
  },
  {
   "cell_type": "code",
   "execution_count": 98,
   "metadata": {},
   "outputs": [],
   "source": [
    "inference_dir = ed.KLqp({f_dir: qf_dir}, data={X_dir: X_train_dir, y_dir: y_train_dir})\n",
    "inference_dir.initialize(n_iter=10000)"
   ]
  },
  {
   "cell_type": "code",
   "execution_count": 99,
   "metadata": {},
   "outputs": [
    {
     "name": "stdout",
     "output_type": "stream",
     "text": [
      "{'t': 1, 'loss': 94397672.0}\n",
      "{'t': 2001, 'loss': 33679.133}\n",
      "{'t': 4001, 'loss': 20169.33}\n",
      "{'t': 6001, 'loss': 19990.178}\n",
      "{'t': 8001, 'loss': 17713.289}\n"
     ]
    },
    {
     "data": {
      "image/png": "[encoded data removed]",
      "text/plain": [
       "<matplotlib.figure.Figure at 0x587045c0>"
      ]
     },
     "metadata": {},
     "output_type": "display_data"
    }
   ],
   "source": [
    "sess = ed.get_session()\n",
    "init = tf.global_variables_initializer()\n",
    "init.run()\n",
    "curve = []\n",
    "for _ in range(inference_dir.n_iter):\n",
    "    status = inference_dir.update()\n",
    "    if _%2000 == 0:\n",
    "        print(status)\n",
    "    curve.append(status['loss'])\n",
    "_=plt.semilogy(curve)"
   ]
  },
  {
   "cell_type": "code",
   "execution_count": 104,
   "metadata": {},
   "outputs": [],
   "source": [
    "y_post_dir = ed.copy(y_dir,{f_dir:qf_dir})"
   ]
  },
  {
   "cell_type": "code",
   "execution_count": 105,
   "metadata": {},
   "outputs": [
    {
     "name": "stdout",
     "output_type": "stream",
     "text": [
      "Categorical Accuracy\n"
     ]
    },
    {
     "data": {
      "text/plain": [
       "0.70911086"
      ]
     },
     "execution_count": 105,
     "metadata": {},
     "output_type": "execute_result"
    }
   ],
   "source": [
    "print(\"Categorical Accuracy\")\n",
    "ed.evaluate('categorical_accuracy', data={y_post_dir: y_train_dir, X_dir: X_train_dir})\n",
    "\n",
    "#print(\"Mean squared error on test data:\")\n",
    "#ed.evaluate('mean_squared_error',data={X_dir: X_train_dir, y_post_dir: y_train_dir})\n",
    "\n",
    "#print(\"Mean absolute error on test data:\")\n",
    "#ed.evaluate('mean_absolute_error',data={X_dir: X_train_dir, y_post_dir: y_train_dir})"
   ]
  }
 ],
 "metadata": {
  "anaconda-cloud": {},
  "kernelspec": {
   "display_name": "Python [default]",
   "language": "python",
   "name": "python3"
  },
  "language_info": {
   "codemirror_mode": {
    "name": "ipython",
    "version": 3
   },
   "file_extension": ".py",
   "mimetype": "text/x-python",
   "name": "python",
   "nbconvert_exporter": "python",
   "pygments_lexer": "ipython3",
   "version": "3.6.1"
  }
 },
 "nbformat": 4,
 "nbformat_minor": 1
}
